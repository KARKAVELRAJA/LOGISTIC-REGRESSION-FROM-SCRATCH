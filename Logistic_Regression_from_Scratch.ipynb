{
  "nbformat": 4,
  "nbformat_minor": 0,
  "metadata": {
    "colab": {
      "provenance": [],
      "toc_visible": true
    },
    "kernelspec": {
      "name": "python3",
      "display_name": "Python 3"
    },
    "language_info": {
      "name": "python"
    }
  },
  "cells": [
    {
      "cell_type": "markdown",
      "source": [
        "# **Logistic Regression from Scratch**"
      ],
      "metadata": {
        "id": "ikjtEE3pcf1v"
      }
    },
    {
      "cell_type": "markdown",
      "source": [
        "## ***Importing Necessary Libraries***"
      ],
      "metadata": {
        "id": "xl-LHWG8coUH"
      }
    },
    {
      "cell_type": "code",
      "execution_count": 21,
      "metadata": {
        "id": "Gg5WB3XtbrT7"
      },
      "outputs": [],
      "source": [
        "import numpy as np\n",
        "import matplotlib.pyplot as plt\n",
        "from sklearn.datasets import make_classification"
      ]
    },
    {
      "cell_type": "markdown",
      "source": [
        "## ***Creating the Dataset***"
      ],
      "metadata": {
        "id": "TtRTYRRuc5rA"
      }
    },
    {
      "cell_type": "code",
      "source": [
        "X, y = make_classification(n_features=2, n_redundant=0, \n",
        "                           n_informative=2, random_state=1, \n",
        "                           n_clusters_per_class=1)"
      ],
      "metadata": {
        "id": "Zpawp_R7cw8T"
      },
      "execution_count": 22,
      "outputs": []
    },
    {
      "cell_type": "code",
      "source": [
        "print('Input  :')\n",
        "print(X)\n",
        "print('Output :')\n",
        "print(y)"
      ],
      "metadata": {
        "colab": {
          "base_uri": "https://localhost:8080/"
        },
        "id": "Z04nlrA0dC1m",
        "outputId": "9995fe01-c5b5-421a-f1f5-a3e1f33d466d"
      },
      "execution_count": 23,
      "outputs": [
        {
          "output_type": "stream",
          "name": "stdout",
          "text": [
            "Input  :\n",
            "[[-1.04948638  0.8786438 ]\n",
            " [ 0.8780991   0.89551051]\n",
            " [ 0.95928819  1.03967316]\n",
            " [-1.18013412  1.12062155]\n",
            " [-0.90731836  1.06040861]\n",
            " [-0.62754626  1.37661405]\n",
            " [ 0.82178321  1.18947778]\n",
            " [-1.20376927  0.78801845]\n",
            " [ 0.77151441  0.345716  ]\n",
            " [-0.493857    1.66752297]\n",
            " [ 1.17456965  0.69211449]\n",
            " [ 0.82798737  0.84806927]\n",
            " [ 0.89189141  0.87699465]\n",
            " [ 0.90394545  0.35413361]\n",
            " [ 0.94459507  1.12641981]\n",
            " [ 0.9317172   0.78344054]\n",
            " [-0.96853969  1.27991386]\n",
            " [-1.09230828  0.92686981]\n",
            " [-0.68243019  1.4468218 ]\n",
            " [-0.76045809  0.61363671]\n",
            " [-1.1146902   1.13545112]\n",
            " [ 1.32970299  1.58463774]\n",
            " [-1.39003042  0.85771953]\n",
            " [ 1.01313574  1.16777676]\n",
            " [ 1.22382712  1.98519313]\n",
            " [-1.20257258  0.69174373]\n",
            " [ 0.96435056  1.77547698]\n",
            " [ 1.02600767  0.87226739]\n",
            " [ 1.10863359  1.16755486]\n",
            " [-0.84967187  0.88838944]\n",
            " [-1.03048932  0.61839045]\n",
            " [-1.278618    0.98379959]\n",
            " [-0.98437725  0.93621125]\n",
            " [ 0.91588404  0.79032389]\n",
            " [ 1.13872896  0.85729649]\n",
            " [-1.01366961  0.47330777]\n",
            " [ 0.84917607  1.36586461]\n",
            " [ 1.03436581  2.07582971]\n",
            " [ 1.24328724  1.07258847]\n",
            " [ 0.84146721  0.89891716]\n",
            " [-1.47533915  0.86146256]\n",
            " [-1.23912256  0.94781411]\n",
            " [ 1.06821044  0.77370361]\n",
            " [ 0.90852604  0.96703727]\n",
            " [-0.54706224  0.46739791]\n",
            " [ 1.0576549   0.97139534]\n",
            " [-0.87353582  0.87122579]\n",
            " [-1.23017555  1.06523311]\n",
            " [ 0.99854519  0.68188934]\n",
            " [-1.42203164  1.01177337]\n",
            " [-0.88286982  0.81583612]\n",
            " [ 1.23187251  0.62567337]\n",
            " [-0.91766462  1.01195228]\n",
            " [-0.8894876   1.34728643]\n",
            " [-1.6845077   1.32857949]\n",
            " [ 1.32551412  1.838294  ]\n",
            " [ 0.88239331  0.70017571]\n",
            " [ 1.03345052  1.46893146]\n",
            " [-0.93355729  0.99785516]\n",
            " [-1.46662161  0.87874071]\n",
            " [ 1.033341    1.18559003]\n",
            " [ 1.08480038  1.64661853]\n",
            " [-1.29936179  0.85335555]\n",
            " [ 1.17718111  1.1437713 ]\n",
            " [ 0.78655651  0.77528533]\n",
            " [-1.85064099  0.89562312]\n",
            " [ 0.81405135  0.88883881]\n",
            " [ 0.93640333  0.6236295 ]\n",
            " [ 1.21828168  0.96457205]\n",
            " [-0.5789623   1.32720112]\n",
            " [ 1.15080755  1.02242019]\n",
            " [ 0.82550695  0.55853873]\n",
            " [ 0.96548233  1.18468624]\n",
            " [-1.13742855  0.62153099]\n",
            " [-0.84983074  0.72297801]\n",
            " [-1.44189096  1.09488485]\n",
            " [ 0.70455707  1.39198128]\n",
            " [-0.67204982  0.85877496]\n",
            " [-1.88873982  0.44118981]\n",
            " [-1.15649503  0.85982375]\n",
            " [ 1.10018476  0.98042741]\n",
            " [ 0.60660431  0.56998385]\n",
            " [ 1.00277655  1.24549398]\n",
            " [-1.44620987  0.6675918 ]\n",
            " [-1.64162479  0.76170668]\n",
            " [-1.14722826  0.88861146]\n",
            " [ 0.61771419  1.02817479]\n",
            " [-0.62373281  1.25704434]\n",
            " [-0.94495995  0.6109426 ]\n",
            " [-1.53556118  0.10593645]\n",
            " [ 1.17353145  1.14809657]\n",
            " [-1.21258781  0.9292506 ]\n",
            " [ 1.06796368  0.5630779 ]\n",
            " [ 1.17899425  1.17867274]\n",
            " [-1.73963799  1.22867367]\n",
            " [ 0.75148062  1.06702918]\n",
            " [-1.36419132  1.21619061]\n",
            " [-1.18913787  0.62368852]\n",
            " [ 0.85063796  0.44689516]\n",
            " [-0.54245992  1.34740825]]\n",
            "Output :\n",
            "[1 0 0 1 1 1 0 1 0 1 0 0 0 0 0 0 1 1 1 1 1 0 1 0 0 1 0 0 0 1 1 1 1 0 0 1 0\n",
            " 0 0 0 1 1 0 0 1 0 1 1 0 1 1 0 1 1 1 0 0 0 1 1 0 0 1 0 0 1 0 0 0 1 0 0 0 1\n",
            " 1 1 0 1 1 1 0 0 0 1 1 1 0 1 1 1 0 1 0 0 1 0 1 1 0 1]\n"
          ]
        }
      ]
    },
    {
      "cell_type": "markdown",
      "source": [
        "## ***Visualizing the Dataset***"
      ],
      "metadata": {
        "id": "mRdFNi6jdW8o"
      }
    },
    {
      "cell_type": "code",
      "source": [
        "plt.scatter(X[:, 0], X[:, 1], marker=\"o\", c=y, s=25, edgecolor=\"k\")\n",
        "plt.show()"
      ],
      "metadata": {
        "colab": {
          "base_uri": "https://localhost:8080/",
          "height": 430
        },
        "id": "u1vIPLltdD3M",
        "outputId": "3a4a09f4-38fe-4b84-f88a-368f1eb33f19"
      },
      "execution_count": 24,
      "outputs": [
        {
          "output_type": "display_data",
          "data": {
            "text/plain": [
              "<Figure size 640x480 with 1 Axes>"
            ],
            "image/png": "[encoded data removed]"
          },
          "metadata": {}
        }
      ]
    },
    {
      "cell_type": "markdown",
      "source": [
        "## ***Defining Function for Normalizing the Input Data***"
      ],
      "metadata": {
        "id": "zGGc8aBlfuVN"
      }
    },
    {
      "cell_type": "code",
      "source": [
        "def normalize(X):\n",
        "    \n",
        "    # X --> Input.\n",
        "    \n",
        "    # m-> number of training examples\n",
        "    # n-> number of features \n",
        "    m, n = X.shape\n",
        "    \n",
        "    # Normalizing all the n features of X.\n",
        "    for i in range(n):\n",
        "        X = (X - X.mean(axis=0))/X.std(axis=0)\n",
        "        \n",
        "    return X"
      ],
      "metadata": {
        "id": "2A1AH2A2f2XJ"
      },
      "execution_count": 25,
      "outputs": []
    },
    {
      "cell_type": "markdown",
      "source": [
        "## ***Defining Sigmoid Function***"
      ],
      "metadata": {
        "id": "12lJHQ7ueGZP"
      }
    },
    {
      "cell_type": "markdown",
      "source": [
        "![image.png](data:image/png;base64,iVBORw0KGgoAAAANSUhEUgAAAEUAAAA6CAYAAADm+ZQ9AAACgklEQVRoge2ZLZCjMBSAv705UYlEMquQSCQSiaxEViIrK5HIyshKJLIyMhK1g4yMxPXU/ezNm126e1uYm/fJMJn3+Ia8hJen2+12Q3nFt7UT2CIqRUClCKgUAZUioFIEVIqAShFQKQIqRWAjUmbGoeVg3NqJAPB91ejB0jZnxtkzuolQl6um85N1v5Qo52gM5tyQrZrIazayfLaFShFQKQIqRUClCKgUAZUi8LRq4/rX4W3COg/EZHnCrmgw9Xonl3WlbBRdPgIqRUClCKgUAZUi8G4/5fn5+RF5PJSXl5c3n+uWLKDLR0ClCHxIyjwOtAfDNtrM/547GtcB2zacxxk/OqZQc1+beWQYoCzTO1N8PHdIiciPhpzAcMhprndGChP9ZSYrU+I7p96Px3YddrfDWQ9RRORj6suyBvn/WVNcT582NFXOznqKsiIrc6KF09e993mP4Lh0hmGOyRixccOlyZgnxxjkKbskI80OtADOcaXgUOZ3XaFsV8p4oa47klOPKWPA0aUd/d5QJdnbLzkOGBsRzT3sO1I8Q2tJjxXJgtBfJGXiaq5Mfw4Fh7eBswmvE0sK6uLvVD19e8KmJ05lDATG3jBUNWZBQfJTT+8ikpCSM2DaAGW3eGP4IikJRV2/HgoD1s0c6ur9QustvYW09FyNgSghS08M1bKqEJdn+k/cwG5z+XiPBfb7hjp/fPht7j5pxj6CeZ5/j82Oc31k8F8f/kOHt8kCGJr9SLIraEz9by/Idzknc6JpDhxdQRwsIa6oupZs6b76CR73lxyuNE3gaBbUlJXR1oHANmvKyqgUAZUioFIEVIqAShFQKQIqRUClCKgUAZUioFIEVIrAD4w+4juKzuEUAAAAAElFTkSuQmCC)"
      ],
      "metadata": {
        "id": "xa-N1XGlec-s"
      }
    },
    {
      "cell_type": "code",
      "source": [
        "def sigmoid(z):\n",
        "    return 1.0/(1 + np.exp(-z))"
      ],
      "metadata": {
        "id": "ySYy-gOyeUQs"
      },
      "execution_count": 26,
      "outputs": []
    },
    {
      "cell_type": "markdown",
      "source": [
        "## ***Defining the Cost/Loss Function - [Log-Loss Function]***"
      ],
      "metadata": {
        "id": "aWTC3s48d141"
      }
    },
    {
      "cell_type": "markdown",
      "source": [
        "![image.png](data:image/png;base64,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)"
      ],
      "metadata": {
        "id": "vCtvq9dEefd0"
      }
    },
    {
      "cell_type": "code",
      "source": [
        "def loss(y, y_hat):\n",
        "    loss = -np.mean(y*(np.log(y_hat)) - (1-y)*np.log(1-y_hat))\n",
        "    return loss"
      ],
      "metadata": {
        "id": "bfCzQf10ddHC"
      },
      "execution_count": 27,
      "outputs": []
    },
    {
      "cell_type": "markdown",
      "source": [
        "## ***Defining Gradient Descent***"
      ],
      "metadata": {
        "id": "8hondVeTezQ6"
      }
    },
    {
      "cell_type": "code",
      "source": [
        "def gradients(X, y, y_hat):\n",
        "    \n",
        "    # X --> Input.\n",
        "    # y --> true/target value.\n",
        "    # y_hat --> hypothesis/predictions.\n",
        "    # w --> weights (parameter).\n",
        "    # b --> bias (parameter).\n",
        "    \n",
        "    # m-> number of training examples.\n",
        "    m = X.shape[0]\n",
        "    \n",
        "    # Gradient of loss w.r.t weights.\n",
        "    dw = (1/m)*np.dot(X.T, (y_hat - y))\n",
        "    \n",
        "    # Gradient of loss w.r.t bias.\n",
        "    db = (1/m)*np.sum((y_hat - y)) \n",
        "    \n",
        "    return dw, db"
      ],
      "metadata": {
        "id": "BAgiIRwcewt_"
      },
      "execution_count": 28,
      "outputs": []
    },
    {
      "cell_type": "markdown",
      "source": [
        "## ***Defining Function for Plotting Decision Boundary***"
      ],
      "metadata": {
        "id": "2_E_7mB1fSgW"
      }
    },
    {
      "cell_type": "code",
      "source": [
        "def plot_decision_boundary(X, w, b):\n",
        "    \n",
        "    # X --> Inputs\n",
        "    # w --> weights\n",
        "    # b --> bias\n",
        "    \n",
        "    # The Line is y=mx+c\n",
        "    # So, Equate mx+c = w.X + b\n",
        "    # Solving we find m and c\n",
        "    x1 = [min(X[:,0]), max(X[:,0])]\n",
        "    m = -w[0]/w[1]\n",
        "    c = -b/w[1]\n",
        "    x2 = m*x1 + c\n",
        "    \n",
        "    # Plotting\n",
        "    fig = plt.figure(figsize=(10,8))\n",
        "    plt.plot(X[:, 0][y==0], X[:, 1][y==0], \"g^\")\n",
        "    plt.plot(X[:, 0][y==1], X[:, 1][y==1], \"bs\")\n",
        "    plt.xlim([-2, 2])\n",
        "    plt.ylim([0, 2.2])\n",
        "    plt.plot(x1, x2, 'y-')"
      ],
      "metadata": {
        "id": "qWKxcP_KfRSq"
      },
      "execution_count": 29,
      "outputs": []
    },
    {
      "cell_type": "markdown",
      "source": [
        "## ***Defining the Function for Training***"
      ],
      "metadata": {
        "id": "OKHw_UWAgDRG"
      }
    },
    {
      "cell_type": "code",
      "source": [
        "def train(X, y, bs, epochs, lr):\n",
        "    \n",
        "    # X --> Input.\n",
        "    # y --> true/target value.\n",
        "    # bs --> Batch Size.\n",
        "    # epochs --> Number of iterations.\n",
        "    # lr --> Learning rate.\n",
        "        \n",
        "    # m-> number of training examples\n",
        "    # n-> number of features \n",
        "    m, n = X.shape\n",
        "    \n",
        "    # Initializing weights and bias to zeros.\n",
        "    w = np.zeros((n,1))\n",
        "    b = 0\n",
        "    \n",
        "    # Reshaping y.\n",
        "    y = y.reshape(m,1)\n",
        "    \n",
        "    # Normalizing the inputs.\n",
        "    x = normalize(X)\n",
        "    \n",
        "    # Empty list to store losses.\n",
        "    losses = []\n",
        "    \n",
        "    # Training loop.\n",
        "    for epoch in range(epochs):\n",
        "        for i in range((m-1)//bs + 1):\n",
        "            \n",
        "            # Defining batches. SGD.\n",
        "            start_i = i*bs\n",
        "            end_i = start_i + bs\n",
        "            xb = X[start_i:end_i]\n",
        "            yb = y[start_i:end_i]\n",
        "            \n",
        "            # Calculating hypothesis/prediction.\n",
        "            y_hat = sigmoid(np.dot(xb, w) + b)\n",
        "            \n",
        "            # Getting the gradients of loss w.r.t parameters.\n",
        "            dw, db = gradients(xb, yb, y_hat)\n",
        "            \n",
        "            # Updating the parameters.\n",
        "            w -= lr*dw\n",
        "            b -= lr*db\n",
        "        \n",
        "        # Calculating loss and appending it in the list.\n",
        "        l = loss(y, sigmoid(np.dot(X, w) + b))\n",
        "        losses.append(l)\n",
        "        \n",
        "    # returning weights, bias and losses(List).\n",
        "    return w, b, losses"
      ],
      "metadata": {
        "id": "oiYu239WffPq"
      },
      "execution_count": 30,
      "outputs": []
    },
    {
      "cell_type": "markdown",
      "source": [
        "## ***Performing Training***"
      ],
      "metadata": {
        "id": "4jTVkyOmg1XF"
      }
    },
    {
      "cell_type": "code",
      "source": [
        "# Training \n",
        "w, b, l = train(X, y, bs=100, epochs=1000, lr=0.01)"
      ],
      "metadata": {
        "id": "j7tiW0LGgoS-"
      },
      "execution_count": 31,
      "outputs": []
    },
    {
      "cell_type": "markdown",
      "source": [
        "## ***Visualizing the Result***"
      ],
      "metadata": {
        "id": "pINmpkOmg_O8"
      }
    },
    {
      "cell_type": "code",
      "source": [
        "# Plotting Decision Boundary\n",
        "plot_decision_boundary(X, w, b)"
      ],
      "metadata": {
        "colab": {
          "base_uri": "https://localhost:8080/",
          "height": 676
        },
        "id": "RXF4_-rLg7PB",
        "outputId": "66db0317-5267-4692-bde4-1f7bc56c7fcc"
      },
      "execution_count": 32,
      "outputs": [
        {
          "output_type": "display_data",
          "data": {
            "text/plain": [
              "<Figure size 1000x800 with 1 Axes>"
            ],
            "image/png": "[encoded data removed]"
          },
          "metadata": {}
        }
      ]
    }
  ]
}